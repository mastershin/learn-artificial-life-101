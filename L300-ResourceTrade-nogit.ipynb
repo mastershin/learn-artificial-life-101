{
 "cells": [
  {
   "cell_type": "code",
   "execution_count": null,
   "metadata": {},
   "outputs": [],
   "source": []
  },
  {
   "cell_type": "code",
   "execution_count": null,
   "metadata": {},
   "outputs": [],
   "source": [
    "class Resource1:\n",
    "    name = \"banana\"\n",
    "\n",
    "class Resource2:\n",
    "    name = \"strawberry\"\n",
    "\n",
    "class TribeA:\n",
    "    name = \"Tribe A\"\n",
    "\n",
    "class TribeB:\n",
    "    name = \"Tribe B\"\n",
    "\n",
    "land1 = []\n",
    "land1.append(TribeA)\n",
    "\n",
    "land2 = []\n",
    "land2.append(TribeB)\n"
   ]
  }
 ],
 "metadata": {
  "language_info": {
   "name": "python"
  }
 },
 "nbformat": 4,
 "nbformat_minor": 2
}
